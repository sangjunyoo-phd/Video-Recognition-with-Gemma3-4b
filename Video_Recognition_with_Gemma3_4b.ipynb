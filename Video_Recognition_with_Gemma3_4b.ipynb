{
  "nbformat": 4,
  "nbformat_minor": 0,
  "metadata": {
    "colab": {
      "provenance": [],
      "gpuType": "A100",
      "mount_file_id": "1ya_4mKBQQIXL_k1ATuzeCKHR1KbtI9ip",
      "authorship_tag": "ABX9TyPHoLRXKwF43x2z16rh39Mz",
      "include_colab_link": true
    },
    "kernelspec": {
      "name": "python3",
      "display_name": "Python 3"
    },
    "language_info": {
      "name": "python"
    },
    "accelerator": "GPU"
  },
  "cells": [
    {
      "cell_type": "markdown",
      "metadata": {
        "id": "view-in-github",
        "colab_type": "text"
      },
      "source": [
        "<a href=\"https://colab.research.google.com/github/sangjunyoo-phd/Video-Recognition-with-Gemma3-4b/blob/main/Video_Recognition_with_Gemma3_4b.ipynb\" target=\"_parent\"><img src=\"https://colab.research.google.com/assets/colab-badge.svg\" alt=\"Open In Colab\"/></a>"
      ]
    },
    {
      "cell_type": "code",
      "execution_count": null,
      "metadata": {
        "id": "ocGzr4YX6p2-"
      },
      "outputs": [],
      "source": [
        "import transformers\n",
        "from transformers import pipeline, Gemma3ForConditionalGeneration, AutoProcessor\n",
        "import torch # datatype -> torch.bfloat16\n",
        "import cv2\n",
        "from google.colab.patches import cv2_imshow\n",
        "import numpy as np\n",
        "from PIL import Image\n",
        "\n",
        "print(transformers.__version__)"
      ]
    },
    {
      "cell_type": "code",
      "source": [
        "!huggingface-cli login"
      ],
      "metadata": {
        "id": "d56R-LSH71Zc"
      },
      "execution_count": null,
      "outputs": []
    },
    {
      "cell_type": "code",
      "source": [
        "model_name = \"google/gemma-3-4b-it\""
      ],
      "metadata": {
        "id": "U9P-a1oapyTI"
      },
      "execution_count": null,
      "outputs": []
    },
    {
      "cell_type": "code",
      "source": [
        "model = Gemma3ForConditionalGeneration.from_pretrained(\n",
        "    model_name,\n",
        "    torch_dtype = torch.bfloat16,\n",
        "    device_map=\"auto\"\n",
        ")\n",
        "\n",
        "processor = AutoProcessor.from_pretrained(model_name)"
      ],
      "metadata": {
        "id": "oxmemBXEgKb6"
      },
      "execution_count": null,
      "outputs": []
    },
    {
      "cell_type": "code",
      "source": [
        "pipe = pipeline(\"image-text-to-text\",\n",
        "                model=model,\n",
        "                processor=processor,\n",
        "                device_map=\"auto\")"
      ],
      "metadata": {
        "id": "UIUH7nykcCwN"
      },
      "execution_count": null,
      "outputs": []
    },
    {
      "cell_type": "code",
      "source": [
        "# Change to the path of your video\n",
        "video_path = \"/content/drive/MyDrive/Colab Notebooks/WIN_20250402_21_02_19_Pro.mp4\""
      ],
      "metadata": {
        "id": "WCKN4EHaeOa5"
      },
      "execution_count": null,
      "outputs": []
    },
    {
      "cell_type": "code",
      "source": [
        "video = cv2.VideoCapture(video_path)\n",
        "frames = []\n",
        "timestamp_in_sec = []\n",
        "while video.isOpened():\n",
        "    ret, frame = video.read()\n",
        "    if not ret:\n",
        "        break\n",
        "    frames.append(frame)\n",
        "    timestamp_in_ms = video.get(cv2.CAP_PROP_POS_MSEC)\n",
        "    timestamp_in_sec.append(timestamp_in_ms / 1000)\n",
        "\n",
        "video.release()\n",
        "\n",
        "print(f\"Number of Frames: {len(frames)}\\tShape of Frame: {frames[0].shape}\")"
      ],
      "metadata": {
        "id": "uIM8ge-meUIW"
      },
      "execution_count": null,
      "outputs": []
    },
    {
      "cell_type": "code",
      "source": [
        "def sample_frames(frames, timestamp_in_sec, num_frames, resize=False):\n",
        "  # Extract number of frames to save memory\n",
        "  sampled_frames = []\n",
        "  sampled_timestamp = []\n",
        "  frame_indices = np.linspace(0, len(frames) - 1, num_frames, dtype=int)\n",
        "  for i in frame_indices:\n",
        "    frame = frames[i]\n",
        "    timestamp = timestamp_in_sec[i]\n",
        "    sampled_timestamp.append(timestamp)\n",
        "    original_height, original_width = frame.shape[:2]\n",
        "    if resize: # Might be helpful to save memeory\n",
        "      resized_frame = cv2.resize(frame, (original_width//2, original_height//2))\n",
        "      sampled_frames.append(resized_frame)\n",
        "    else:\n",
        "      sampled_frames.append(frame)\n",
        "  return sampled_frames, sampled_timestamp"
      ],
      "metadata": {
        "id": "JA2SrppkeneW"
      },
      "execution_count": null,
      "outputs": []
    },
    {
      "cell_type": "code",
      "source": [
        "sampled_frames, sampled_timestamp = sample_frames(frames, timestamp_in_sec, 20, resize=True)"
      ],
      "metadata": {
        "id": "GNAfE5y7enbJ"
      },
      "execution_count": null,
      "outputs": []
    },
    {
      "cell_type": "code",
      "source": [
        "messages = [\n",
        "    {\n",
        "        \"role\": \"user\",\n",
        "        \"content\": [\n",
        "            {\n",
        "                \"type\": \"text\",\n",
        "                \"text\": \"What is happening in the video?\"\n",
        "                }\n",
        "            # Append HERE!\n",
        "            # The image should be a valid URL or a path to an image file\n",
        "            # Save frames to the temp_frame folder during iteration!\n",
        "        ]\n",
        "    }\n",
        "]"
      ],
      "metadata": {
        "id": "98tP-_WquURK"
      },
      "execution_count": null,
      "outputs": []
    },
    {
      "cell_type": "code",
      "source": [
        "for i, frame in enumerate(sampled_frames):\n",
        "  image = Image.fromarray(cv2.cvtColor(frame, cv2.COLOR_BGR2RGB))\n",
        "  image.save(f\"/content/frame_{i}.jpg\")\n",
        "\n",
        "  time_in_sec = round(sampled_timestamp[i], 2)\n",
        "\n",
        "  # Append the prompt\n",
        "  messages[-1][\"content\"].append(\n",
        "      {\n",
        "          \"type\": \"text\",\n",
        "          \"text\": f\"timestamp of the following frame is {time_in_sec} sec.\"\n",
        "      }\n",
        "  )\n",
        "  messages[-1][\"content\"].append(\n",
        "      {\n",
        "          \"type\": \"image\",\n",
        "          \"image\": f\"/content/frame_{i}.jpg\"\n",
        "      }\n",
        "  )"
      ],
      "metadata": {
        "id": "apTYFXd0iqZ9"
      },
      "execution_count": null,
      "outputs": []
    },
    {
      "cell_type": "code",
      "source": [
        "output = pipe(text=messages, max_new_tokens = 200)\n",
        "print(output[0][\"generated_text\"][-1]['content'])"
      ],
      "metadata": {
        "id": "f2zn8j_DidCo"
      },
      "execution_count": null,
      "outputs": []
    },
    {
      "cell_type": "code",
      "source": [],
      "metadata": {
        "id": "N6iMw8idrDPj"
      },
      "execution_count": null,
      "outputs": []
    }
  ]
}