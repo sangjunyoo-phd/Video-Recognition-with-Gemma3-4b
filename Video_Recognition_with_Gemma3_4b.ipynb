{
  "nbformat": 4,
  "nbformat_minor": 0,
  "metadata": {
    "colab": {
      "provenance": [],
      "gpuType": "A100",
      "mount_file_id": "1ya_4mKBQQIXL_k1ATuzeCKHR1KbtI9ip",
      "authorship_tag": "ABX9TyOtuCgRKvHCjnn4KwZIqkHT",
      "include_colab_link": true
    },
    "kernelspec": {
      "name": "python3",
      "display_name": "Python 3"
    },
    "language_info": {
      "name": "python"
    },
    "accelerator": "GPU",
  "cells": [
    {
      "cell_type": "markdown",
      "metadata": {
        "id": "view-in-github",
        "colab_type": "text"
      },
      "source": [
        "<a href=\"https://colab.research.google.com/github/sangjunyoo-phd/Video-Recognition-with-Gemma3-4b/blob/main/Video_Recognition_with_Gemma3_4b.ipynb\" target=\"_parent\"><img src=\"https://colab.research.google.com/assets/colab-badge.svg\" alt=\"Open In Colab\"/></a>"
      ]
    },
    {
      "cell_type": "code",
      "execution_count": null,
      "metadata": {
        "colab": {
          "base_uri": "https://localhost:8080/"
        },
        "id": "ocGzr4YX6p2-",
        "outputId": "c0391a26-7758-417e-da4d-5a72d92f4e1b"
      },
      "outputs": [
        {
          "output_type": "stream",
          "name": "stdout",
          "text": [
            "4.50.3\n"
          ]
        }
      ],
      "source": [
        "import transformers\n",
        "from transformers import pipeline, Gemma3ForConditionalGeneration, AutoProcessor\n",
        "import torch # datatype -> torch.bfloat16\n",
        "import cv2\n",
        "from google.colab.patches import cv2_imshow\n",
        "import numpy as np\n",
        "from PIL import Image\n",
        "\n",
        "print(transformers.__version__)"
      ]
    },
    {
      "cell_type": "code",
      "source": [
        "!huggingface-cli login"
      ],
      "metadata": {
        "colab": {
          "base_uri": "https://localhost:8080/"
        },
        "id": "d56R-LSH71Zc",
        "outputId": "070e72a9-b12c-4eb4-fcc6-bd3bd287da62"
      },
      "execution_count": null,
      "outputs": [
        {
          "output_type": "stream",
          "name": "stdout",
          "text": [
            "\n",
            "    _|    _|  _|    _|    _|_|_|    _|_|_|  _|_|_|  _|      _|    _|_|_|      _|_|_|_|    _|_|      _|_|_|  _|_|_|_|\n",
            "    _|    _|  _|    _|  _|        _|          _|    _|_|    _|  _|            _|        _|    _|  _|        _|\n",
            "    _|_|_|_|  _|    _|  _|  _|_|  _|  _|_|    _|    _|  _|  _|  _|  _|_|      _|_|_|    _|_|_|_|  _|        _|_|_|\n",
            "    _|    _|  _|    _|  _|    _|  _|    _|    _|    _|    _|_|  _|    _|      _|        _|    _|  _|        _|\n",
            "    _|    _|    _|_|      _|_|_|    _|_|_|  _|_|_|  _|      _|    _|_|_|      _|        _|    _|    _|_|_|  _|_|_|_|\n",
            "\n",
            "    To log in, `huggingface_hub` requires a token generated from https://huggingface.co/settings/tokens .\n",
            "Enter your token (input will not be visible): \n",
            "Add token as git credential? (Y/n) n\n",
            "Token is valid (permission: write).\n",
            "The token `Write - colab` has been saved to /root/.cache/huggingface/stored_tokens\n",
            "Your token has been saved to /root/.cache/huggingface/token\n",
            "Login successful.\n",
            "The current active token is: `Write - colab`\n"
          ]
        }
      ]
    },
    {
      "cell_type": "code",
      "source": [
        "model_name = \"google/gemma-3-4b-it\""
      ],
      "metadata": {
        "id": "U9P-a1oapyTI"
      },
      "execution_count": null,
      "outputs": []
    },
    {
      "cell_type": "markdown",
      "source": [
        "Some works need to be done in order to load 8-bit quantized gemma3:4b. The solution can be found in Here: https://github.com/google-deepmind/gemma/issues/169\n",
        "\n",
        "https://github.com/huggingface/transformers/issues/36815"
      ],
      "metadata": {
        "id": "aD3ZbDL-lOCz"
      }
    },
    {
      "cell_type": "code",
      "source": [
        "model = Gemma3ForConditionalGeneration.from_pretrained(\n",
        "    model_name,\n",
        "    torch_dtype = torch.bfloat16,\n",
        "    device_map=\"auto\"\n",
        ")\n",
        "\n",
        "processor = AutoProcessor.from_pretrained(model_name)"
      ],
      "metadata": {
        "colab": {
          "base_uri": "https://localhost:8080/",
          "height": 536,
          "referenced_widgets": [
            "9fe96ac9482c41f6859ba00f74de75b0",
            "43c021b4a93f41df9cce338e824237aa",
            "8ffb84877b7a43e5ba295bef66a340f7",
            "d08d4bf8a42e41c7ae193bf05c0f9bc5",
            "f3bbed3f65e14c0cafd4a01f1568b6e9",
            "d0fad861860e4e9885e764780cb31ad8",
            "e7a18d34fbf44afb8b18ebacca3d6cfc",
            "38d8fc0f0dc34b7c8337eddb7065a21a",
            "846155407cf94d64963e16ba803f4e9d",
            "cd25eecde61844068c7da92ae227dcca",
            "2190a71a15b546e9bd511cd8e3477b38",
            "2cf773d15f9d44c4ab75fe82b3752c54",
            "2745979571824fecaa48dbcbe3a21e59",
            "0819b9ae673042f895393d22a560d7a1",
            "1daf1a68523e40819cc315943278d10b",
            "4a0687aa8cce4a3281c3c4cb5e728ae9",
            "3548d23f5ac149508c172f519c49eee1",
            "8dbb87c33c194944a7f27df2a8bef15f",
            "845de92bec9a47f1acf92dff0cb30661",
            "eb730c90451047c3a2a86a1eca8caf7b",
            "7c7314fff1384551b9e016f9082cd4cc",
            "b92b2964e5284dd8a4faa18b2a6f6a22",
            "6ca92a2f0bb34450be22e6d6e7f1d7a1",
            "090699bca67f474d9d17f3f059f1b54b",
            "c29bcb7a25094fb39ef9aff48a705386",
            "e9a5b9c85eb5426d8f83ec3d488e0902",
            "245e0eedecce4cf0b59b194427b49bfe",
            "043bdfd4539b48fc81c3e46e16a6aabe",
            "56ebea206bc748df9994637ea1365e4f",
            "99ed2bf43a984260b6b191dda773f6a6",
            "8b37df047efb49988e57552e56353a7f",
            "2bbada7957084d09b60ee3358fca027f",
            "ee648696aa6c4c3d92f216cd16a08382",
            "c8351006fc82432491ef73332a1138b7",
            "eb2bf21378d44b19ad42499101ed8fb7",
            "a5fec458fccb452a86715bd97c9e5f79",
            "cd9d3bdd40434679a776fe4acc79cec0",
            "825a6e834ace445ab639601cb194d2f5",
            "7be5d3a337f6452bbbbca4ded6d6a021",
            "192b5338080f4066bfa6040aa0da5247",
            "c69dad2f37104455a2ddab2ee5f7cb3c",
            "093df3cb2925472d8d0ac7b46b49b236",
            "53dbe3ffa9f145ae95e18894f7e06a98",
            "448cec44ee5f46ecbaa9ae9f33572475",
            "ef82185aa529472cab4a677b7a01c31e",
            "4853c32f3a4a433ea0ee31bd9bc05e5f",
            "ecbd4857a0004345bc51ac8c5cf6c66f",
            "d38877b732e04a69b64f958a6d980b85",
            "67c82bad18d54d5d9963335273a84ce1",
            "72039bfe880d476baa1e4a9addaec332",
            "a481ec5f29f54fbbb85e6f80fcdab42f",
            "2feddcb128f84623b1d3b6e618aa80b7",
            "326911d278db463ea4de73a4cec12c43",
            "a5e66e7648d042acb66f4061a5a759cc",
            "4c3273481c204da4b85676a17e45c80a",
            "9bc82588dabc40898614e62ca3b80486",
            "fb15bfd45e6a4848b594aada7c49367a",
            "1ce90aa42f3a4272893d9feb5c50ccd7",
            "2ac93d703a5c4431b46e6837e94d1a9f",
            "069ad4e36d474f2293d0557a4b82fb4a",
            "0675548385574841ac24fe25274255f8",
            "998152fe3fcf4137b299e198e3fa1a69",
            "26762145194d4ba58613ffd3d52fc491",
            "7604c3ce2a7149688fc28a612297f875",
            "628aaf6b091b4b39901f699dd62643b2",
            "e8baa986630c4eb18fb473658011bd20",
            "8da654d3c2994019a49cd09f051e7288",
            "76ad9f38f1384fe09c327a9420012a6e",
            "f6734248422d4877b21bc8ac7959b780",
            "a4cbecbda0164dd2905f7e893b40560c",
            "82a0cbd3487b4280a5f93ae2606c6fb8",
            "d1aa0c8dd28548eeaeefc24935ede22a",
            "a8f9b1fff49d4730b3c6cc4a39075ec9",
            "74d121649e0547988a3ebbfde2a041a7",
            "f71b6ad6639b43938274f18dfab77b6e",
            "7aa9c1ceca984ff6acb9a0abaa5434d2",
            "d1c69f357781431f94d8248722ffd2eb",
            "e5e5ade5c8cc4b1eb74296711752a69d",
            "4cef681af8434b54872df6cd4dc5c9af",
            "134d0414462e4e0691e62c368b6edb6a",
            "b5d94a325be047928f0c5a49c8f37370",
            "17446ba135e84c60943ee3cbf57d0a6a",
            "2556e9e61fe44ea6a1bb3c0b1b7ab732",
            "9563e966c007478488be0f570c3e1d3e",
            "f1cda7ce641d4371b5c7a0922219d35b",
            "de51f55c143043718b367c4eacf34618",
            "74d99e817b844f48a309b511ed61242d",
            "dbd0c58fcd3447d499e70d12ce0c0209",
            "b16d2e33ad26407fa48021a161d4ac80",
            "9faefc7a85f940a5850bb4be91c03fd4",
            "3d5a041d0b234283a252c19975db5319",
            "4b05672f6caa48c18a06820646992538",
            "e486142fe0614b55a3044b775607f07b",
            "7a5470966d2447188865a7716261f228",
            "9f0fac27c9b04b3cb729a0665c5ddc1d",
            "6512389f7d984239826f8fcee0dd7ab6",
            "d925a6029bfc4898af068ebeb4c2c969",
            "aa0a0332a4884e53ac289b466ba61c0e",
            "8c4f738b89db4b53bb4b48e69c50d0bc",
            "0edbe1deb621459bae569b56c2a497fe",
            "e1aa2223cad74ca1a7b71c0ab2d35efb",
            "91d13de6e2b947c592e04db316850ce0",
            "3b4677f81b87481eb17eb3a5d77cdba7",
            "af3d21e10ec44856a97338007de6a577",
            "dab6029cc6ed498db4f339a88a5c4583",
            "ca438b5c7b644e4aacb97c6a4b303076",
            "0235d93e7cd7488c9303c9740ee7ac66",
            "b6a5c150dc934da4b64c5537305bff23",
            "6080b00f763e470da3602e872115cffc",
            "cf1e13db97c94521811c7d725a2131b3",
            "822d70f8e4b447edb460d0f859e66924",
            "247ef3d3dd73418198f97b64d4884241",
            "facf1cccfa3a479aa7c861a2622d6bbd",
            "626f2db6a7834df4a5ac4331b3c1039b",
            "0ca0f599e5ec469a930e4a962f17af4b",
            "02cb94f342a949f4aed2c821a2ab0919",
            "519e45e8d45a47cb86e5f0372dc1e7e2",
            "7adc5035b054427698cc7728c8dfc13f",
            "9b80ec40c4ba4e2b92df3fc9f2eb73a2",
            "dc8815535bc04a55a2d46b9b1886df40",
            "d54195ea406744f8a254ac25d920cd1e",
            "2a263a4a9f35490e89757780a60a78d7",
            "1bba01d0d1e34d008cea24076b008afd",
            "125832da43c44a6fad5e2e46256fafb6",
            "812e9c204c9b4fe59bc20fdf2aaf7836",
            "78f429ab3e5643ef995066addc2bfc14",
            "eaf0860aff1c460685bf28dc9dd34dd3",
            "bd0047fac6c24c28a6414cbc9753cfdc",
            "56f67165b24044a3858c6fff8ace1b83",
            "d8bc295fd6f541369eab87c5cf7778f0",
            "f87a15de9df143ba96e4c79f789523a1",
            "da30c496cb4147e79a457ff2059f3406",
            "ccf00f70c3d84fbd83d1399b8d2e8189",
            "fb4995fa4859490f93394ba073236ecc",
            "fb5c7874752344f1ab75e133f69e869b",
            "89e04a1add754f24bb5cfca59ede3a7c",
            "a94cb32413ed47d2ac673feece80492e",
            "91483d1ad1f84f4f8233ddfefc16804c",
            "6ee0fbc5566b4bf6861d6ebe8db2fc31",
            "7b5dd9aa89504210b18720b7982542e0",
            "da216642112a4961a84a2b71df880dcc",
            "81b63b7c0d1b4f52b0ee283ea7facee7",
            "fbe9489533e6408a8b6ec1d5bc26f897",
            "264f30a44e57410c90af8792522c4232",
            "19e8edc1043e4e6d98adc368506cad2f",
            "b0b42812e99644e19474daf1597e691e",
            "7e08db6726f5420bb2a674b391d139b2",
            "9489e25e72f44e17a4bd58f745f2703a",
            "f9e889f1b63a4e6b9d93c7344f3c2760",
            "2336b0145fe64954838587880a47cb8d",
            "a07b2dfaa64e4d7e9590c420e97d870b",
            "920e40b9d98943b399a01abbe18bb0d3",
            "d259232f81084e45af7f4645843134b7",
            "1989f8a6d16742149b700117df78d432",
            "27c078cedcbd492bba79a7dcdadea6e8",
            "286f53fa4e0e4c09924e1abac0f0b938",
            "73556655e6b047f097c3297ed42d2ca7",
            "6e60c3ae8f53424ebdf57713acb7e9e7",
            "9d45850b0f2047d280eb6e6f921d40e8",
            "16b67ff9b85f4394b1e1d1f1ad158c2f",
            "680d486a41d547ee9da84d3f29959f04",
            "baac363c0f9f4a2a8611287a8541e019",
            "6799232a2b1f4cfcbb8fe8f7e5a5d039",
            "d4d0ba2559044476b0dfe93577c41fd6",
            "5f8ed914b53f4a5b8fc4be559bfd545a"
          ]
        },
        "id": "oxmemBXEgKb6",
        "outputId": "a655907b-80f9-41dd-aa34-54350cd2af22"
      },
      "execution_count": null,
      "outputs": [
        {
          "output_type": "display_data",
          "data": {
            "text/plain": [
              "config.json:   0%|          | 0.00/855 [00:00<?, ?B/s]"
            ],
            "application/vnd.jupyter.widget-view+json": {
              "version_major": 2,
              "version_minor": 0,
              "model_id": "9fe96ac9482c41f6859ba00f74de75b0"
            }
          },
          "metadata": {}
        },
        {
          "output_type": "display_data",
          "data": {
            "text/plain": [
              "model.safetensors.index.json:   0%|          | 0.00/90.6k [00:00<?, ?B/s]"
            ],
            "application/vnd.jupyter.widget-view+json": {
              "version_major": 2,
              "version_minor": 0,
              "model_id": "2cf773d15f9d44c4ab75fe82b3752c54"
            }
          },
          "metadata": {}
        },
        {
          "output_type": "display_data",
          "data": {
            "text/plain": [
              "Fetching 2 files:   0%|          | 0/2 [00:00<?, ?it/s]"
            ],
            "application/vnd.jupyter.widget-view+json": {
              "version_major": 2,
              "version_minor": 0,
              "model_id": "6ca92a2f0bb34450be22e6d6e7f1d7a1"
            }
          },
          "metadata": {}
        },
        {
          "output_type": "display_data",
          "data": {
            "text/plain": [
              "model-00002-of-00002.safetensors:   0%|          | 0.00/3.64G [00:00<?, ?B/s]"
            ],
            "application/vnd.jupyter.widget-view+json": {
              "version_major": 2,
              "version_minor": 0,
              "model_id": "c8351006fc82432491ef73332a1138b7"
            }
          },
          "metadata": {}
        },
        {
          "output_type": "display_data",
          "data": {
            "text/plain": [
              "model-00001-of-00002.safetensors:   0%|          | 0.00/4.96G [00:00<?, ?B/s]"
            ],
            "application/vnd.jupyter.widget-view+json": {
              "version_major": 2,
              "version_minor": 0,
              "model_id": "ef82185aa529472cab4a677b7a01c31e"
            }
          },
          "metadata": {}
        },
        {
          "output_type": "display_data",
          "data": {
            "text/plain": [
              "Loading checkpoint shards:   0%|          | 0/2 [00:00<?, ?it/s]"
            ],
            "application/vnd.jupyter.widget-view+json": {
              "version_major": 2,
              "version_minor": 0,
              "model_id": "9bc82588dabc40898614e62ca3b80486"
            }
          },
          "metadata": {}
        },
        {
          "output_type": "display_data",
          "data": {
            "text/plain": [
              "generation_config.json:   0%|          | 0.00/215 [00:00<?, ?B/s]"
            ],
            "application/vnd.jupyter.widget-view+json": {
              "version_major": 2,
              "version_minor": 0,
              "model_id": "8da654d3c2994019a49cd09f051e7288"
            }
          },
          "metadata": {}
        },
        {
          "output_type": "display_data",
          "data": {
            "text/plain": [
              "processor_config.json:   0%|          | 0.00/70.0 [00:00<?, ?B/s]"
            ],
            "application/vnd.jupyter.widget-view+json": {
              "version_major": 2,
              "version_minor": 0,
              "model_id": "e5e5ade5c8cc4b1eb74296711752a69d"
            }
          },
          "metadata": {}
        },
        {
          "output_type": "display_data",
          "data": {
            "text/plain": [
              "chat_template.json:   0%|          | 0.00/1.61k [00:00<?, ?B/s]"
            ],
            "application/vnd.jupyter.widget-view+json": {
              "version_major": 2,
              "version_minor": 0,
              "model_id": "b16d2e33ad26407fa48021a161d4ac80"
            }
          },
          "metadata": {}
        },
        {
          "output_type": "display_data",
          "data": {
            "text/plain": [
              "preprocessor_config.json:   0%|          | 0.00/570 [00:00<?, ?B/s]"
            ],
            "application/vnd.jupyter.widget-view+json": {
              "version_major": 2,
              "version_minor": 0,
              "model_id": "0edbe1deb621459bae569b56c2a497fe"
            }
          },
          "metadata": {}
        },
        {
          "output_type": "stream",
          "name": "stderr",
          "text": [
            "Using a slow image processor as `use_fast` is unset and a slow processor was saved with this model. `use_fast=True` will be the default behavior in v4.52, even if the model was saved with a slow processor. This will result in minor differences in outputs. You'll still be able to use a slow processor with `use_fast=False`.\n"
          ]
        },
        {
          "output_type": "display_data",
          "data": {
            "text/plain": [
              "tokenizer_config.json:   0%|          | 0.00/1.16M [00:00<?, ?B/s]"
            ],
            "application/vnd.jupyter.widget-view+json": {
              "version_major": 2,
              "version_minor": 0,
              "model_id": "822d70f8e4b447edb460d0f859e66924"
            }
          },
          "metadata": {}
        },
        {
          "output_type": "display_data",
          "data": {
            "text/plain": [
              "tokenizer.model:   0%|          | 0.00/4.69M [00:00<?, ?B/s]"
            ],
            "application/vnd.jupyter.widget-view+json": {
              "version_major": 2,
              "version_minor": 0,
              "model_id": "2a263a4a9f35490e89757780a60a78d7"
            }
          },
          "metadata": {}
        },
        {
          "output_type": "display_data",
          "data": {
            "text/plain": [
              "tokenizer.json:   0%|          | 0.00/33.4M [00:00<?, ?B/s]"
            ],
            "application/vnd.jupyter.widget-view+json": {
              "version_major": 2,
              "version_minor": 0,
              "model_id": "ccf00f70c3d84fbd83d1399b8d2e8189"
            }
          },
          "metadata": {}
        },
        {
          "output_type": "display_data",
          "data": {
            "text/plain": [
              "added_tokens.json:   0%|          | 0.00/35.0 [00:00<?, ?B/s]"
            ],
            "application/vnd.jupyter.widget-view+json": {
              "version_major": 2,
              "version_minor": 0,
              "model_id": "264f30a44e57410c90af8792522c4232"
            }
          },
          "metadata": {}
        },
        {
          "output_type": "display_data",
          "data": {
            "text/plain": [
              "special_tokens_map.json:   0%|          | 0.00/662 [00:00<?, ?B/s]"
            ],
            "application/vnd.jupyter.widget-view+json": {
              "version_major": 2,
              "version_minor": 0,
              "model_id": "27c078cedcbd492bba79a7dcdadea6e8"
            }
          },
          "metadata": {}
        }
      ]
    },
    {
      "cell_type": "code",
      "source": [
        "pipe = pipeline(\"image-text-to-text\",\n",
        "                model=model,\n",
        "                processor=processor,\n",
        "                device_map=\"auto\")"
      ],
      "metadata": {
        "colab": {
          "base_uri": "https://localhost:8080/"
        },
        "id": "UIUH7nykcCwN",
        "outputId": "16f409bb-bd41-4284-d953-7f49b46d0258"
      },
      "execution_count": null,
      "outputs": [
        {
          "output_type": "stream",
          "name": "stderr",
          "text": [
            "Device set to use cuda:0\n"
          ]
        }
      ]
    },
    {
      "cell_type": "code",
      "source": [
        "# Change to the path of your video\n",
        "video_path = \"/content/drive/MyDrive/Colab Notebooks/WIN_20250402_21_02_19_Pro.mp4\""
      ],
      "metadata": {
        "id": "WCKN4EHaeOa5"
      },
      "execution_count": null,
      "outputs": []
    },
    {
      "cell_type": "code",
      "source": [
        "video = cv2.VideoCapture(video_path)\n",
        "frames = []\n",
        "while video.isOpened():\n",
        "    ret, frame = video.read()\n",
        "    if not ret:\n",
        "        break\n",
        "    frames.append(frame)\n",
        "video.release()\n",
        "\n",
        "print(f\"Number of Frames: {len(frames)}\\tShape of Frame: {frames[0].shape}\")"
      ],
      "metadata": {
        "colab": {
          "base_uri": "https://localhost:8080/"
        },
        "id": "uIM8ge-meUIW",
        "outputId": "07a41c3f-7628-4a75-eab4-1a3c28090803"
      },
      "execution_count": null,
      "outputs": [
        {
          "output_type": "stream",
          "name": "stdout",
          "text": [
            "Number of Frames: 213\tShape of Frame: (720, 1280, 3)\n"
          ]
        }
      ]
    },
    {
      "cell_type": "code",
      "source": [
        "def sample_frames(frames, num_frames, resize=False):\n",
        "  # Extract number of frames to save memory\n",
        "  sampled_frames = []\n",
        "  frame_indices = np.linspace(0, len(frames) - 1, num_frames, dtype=int)\n",
        "  for i in frame_indices:\n",
        "    frame = frames[i]\n",
        "    original_height, original_width = frame.shape[:2]\n",
        "    if resize: # Might be helpful to save memeory\n",
        "      resized_frame = cv2.resize(frame, (original_width//2, original_height//2))\n",
        "      sampled_frames.append(resized_frame)\n",
        "    else:\n",
        "      sampled_frames.append(frame)\n",
        "  return sampled_frames"
      ],
      "metadata": {
        "id": "JA2SrppkeneW"
      },
      "execution_count": null,
      "outputs": []
    },
    {
      "cell_type": "code",
      "source": [
        "sampled_frames = sample_frames(frames, 20, resize=True)"
      ],
      "metadata": {
        "id": "GNAfE5y7enbJ"
      },
      "execution_count": null,
      "outputs": []
    },
    {
      "cell_type": "code",
      "source": [
        "messages = [\n",
        "    {\n",
        "        \"role\": \"user\",\n",
        "        \"content\": [\n",
        "            {\n",
        "                \"type\": \"text\",\n",
        "                \"text\": \"Can you briefly explain what is happening in the video?\"\n",
        "                }\n",
        "            # Append HERE!\n",
        "            # The image should be a valid URL or a path to an image file\n",
        "            # Save frames to the temp_frame folder during iteration!\n",
        "        ]\n",
        "    }\n",
        "]"
      ],
      "metadata": {
        "id": "98tP-_WquURK"
      },
      "execution_count": null,
      "outputs": []
    },
    {
      "cell_type": "code",
      "source": [
        "for i, frame in enumerate(sampled_frames):\n",
        "  image = Image.fromarray(cv2.cvtColor(frame, cv2.COLOR_BGR2RGB))\n",
        "  image.save(f\"/content/frame_{i}.jpg\")\n",
        "\n",
        "  # Append the prompt\n",
        "  messages[-1][\"content\"].append(\n",
        "      {\n",
        "          \"type\": \"image\",\n",
        "          \"image\": f\"/content/frame_{i}.jpg\"\n",
        "      }\n",
        "  )"
      ],
      "metadata": {
        "id": "apTYFXd0iqZ9"
      },
      "execution_count": null,
      "outputs": []
    },
    {
      "cell_type": "code",
      "source": [
        "output = pipe(text=messages, max_new_tokens = 200)\n",
        "print(output[0][\"generated_text\"][-1]['content'])"
      ],
      "metadata": {
        "id": "f2zn8j_DidCo",
        "colab": {
          "base_uri": "https://localhost:8080/"
        },
        "outputId": "a4094189-ed08-47e4-fad2-d3600c21523a"
      },
      "execution_count": null,
      "outputs": [
        {
          "output_type": "stream",
          "name": "stdout",
          "text": [
            "The video shows a young man with dark hair and glasses, wearing a plaid shirt. He is consistently looking at the camera and smiling. He appears to be giving a friendly wave or thumbs-up in most of the shots. The background is a plain white window shade.\n"
          ]
        }
      ]
    },
    {
      "cell_type": "code",
      "source": [],
      "metadata": {
        "id": "N6iMw8idrDPj"
      },
      "execution_count": null,
      "outputs": []
    }
  ]
}
